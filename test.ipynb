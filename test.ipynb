{
 "cells": [
  {
   "cell_type": "markdown",
   "metadata": {},
   "source": [
    "# Viola Jones"
   ]
  },
  {
   "cell_type": "markdown",
   "metadata": {},
   "source": [
    "Detekcja wybranych zdjęć ze zbioru danych"
   ]
  },
  {
   "cell_type": "code",
   "execution_count": null,
   "metadata": {},
   "outputs": [],
   "source": [
    "import cv2\n",
    "def detect_on_img(filename):\n",
    "    face_cascade = cv2.CascadeClassifier(cv2.data.haarcascades + 'viola/haarcascade_frontalface_default.xml')\n",
    "    img = cv2.imread(filename)\n",
    "    gray = cv2.cvtColor(img, cv2.COLOR_BGR2GRAY)\n",
    "    faces = face_cascade.detectMultiScale(gray, 1.3, 5)\n",
    "    for (x,y,w,h) in faces:\n",
    "        img = cv2.rectangle(img,(x,y),(x+w,y+h),(255,0,0),2)\n",
    "    cv2.namedWindow('Face Detection')\n",
    "    cv2.imshow('Face Detection', img)\n",
    "    if cv2.waitKey(0):\n",
    "        cv2.destroyAllWindows()"
   ]
  },
  {
   "cell_type": "code",
   "execution_count": null,
   "metadata": {},
   "outputs": [],
   "source": [
    "file1 = 'WIDER_train/images/8--Election_Campain/8_Election_Campain_Election_Campaign_8_15.jpg'\n",
    "detect_on_img(file1)"
   ]
  },
  {
   "cell_type": "code",
   "execution_count": null,
   "metadata": {},
   "outputs": [],
   "source": [
    "file2 = 'WIDER_train/images/56--Voter/56_Voter_peoplevoting_56_48.jpg'\n",
    "detect_on_img(file2)"
   ]
  },
  {
   "cell_type": "markdown",
   "metadata": {},
   "source": [
    "Detekcja na wideo"
   ]
  },
  {
   "cell_type": "code",
   "execution_count": null,
   "metadata": {},
   "outputs": [],
   "source": [
    "def detect_on_video():\n",
    "    face_cascade = cv2.CascadeClassifier(cv2.data.haarcascades + 'haarcascade_frontalface_default.xml')\n",
    "    camera = cv2.VideoCapture(0)\n",
    "    while (True):\n",
    "        ret, frame = camera.read()\n",
    "        gray = cv2.cvtColor(frame, cv2.COLOR_BGR2GRAY)\n",
    "\n",
    "        faces = face_cascade.detectMultiScale(gray, 1.3, 5)\n",
    "        for (x,y,w,h) in faces:\n",
    "            cv2.rectangle(frame,(x,y),(x+w,y+h),(255,0,0),2)\n",
    "        cv2.imshow(\"camera\", frame)\n",
    "        if cv2.waitKey(1) == 27: # Escape\n",
    "            break\n",
    "        success, frame = camera.read()"
   ]
  },
  {
   "cell_type": "code",
   "execution_count": null,
   "metadata": {},
   "outputs": [],
   "source": [
    "detect_on_video()"
   ]
  },
  {
   "cell_type": "markdown",
   "metadata": {},
   "source": [
    "# SSD"
   ]
  },
  {
   "cell_type": "markdown",
   "metadata": {},
   "source": [
    "https://github.com/weiliu89/caffe/tree/ssd/\n",
    "\n",
    "https://github.com/PacktPublishing/Learning-OpenCV-4-Computer-Vision-with-Python-Third-Edition/blob/master/chapter10/faces_dnn.py\n",
    "\n",
    "From book:\n",
    "\n",
    "\"Learning-OpenCV-4-Computer-Vision-With-Python-3-Get-to-Grips-With-Tools-Techniques-And-Algorithms-for-Computer-Vision-and-Machine-Learning-by-Joseph\""
   ]
  },
  {
   "cell_type": "markdown",
   "metadata": {},
   "source": [
    "Detekcja wybranych zdjęć ze zbioru danych"
   ]
  },
  {
   "cell_type": "code",
   "execution_count": null,
   "metadata": {},
   "outputs": [],
   "source": [
    "import cv2\n",
    "import numpy as np\n",
    "\n",
    "img = cv2.imread('WIDER_train/images/56--Voter/56_Voter_peoplevoting_56_48.jpg')\n",
    "\n",
    "face_model = cv2.dnn.readNetFromCaffe(\n",
    "    'ssd/deploy.prototxt',\n",
    "    'ssd/res10_300x300_ssd_iter_140000.caffemodel')"
   ]
  },
  {
   "cell_type": "code",
   "execution_count": null,
   "metadata": {},
   "outputs": [],
   "source": [
    "def ssd_detect_on_img(ssd_model, image):\n",
    "\n",
    "    face_blob_height = 300\n",
    "    face_average_color = (104, 177, 123)\n",
    "    face_confidence_threshold = 0.9\n",
    "\n",
    "    while not img is None:\n",
    "        h, w = img.shape[:2]\n",
    "        aspect_ratio = w/h\n",
    "\n",
    "        # Detect faces in the frame.\n",
    "\n",
    "        face_blob_width = int(face_blob_height * aspect_ratio)\n",
    "        face_blob_size = (face_blob_width, face_blob_height)\n",
    "\n",
    "        face_blob = cv2.dnn.blobFromImage(\n",
    "            img, size=face_blob_size, mean=face_average_color)\n",
    "\n",
    "        face_model.setInput(face_blob)\n",
    "\n",
    "        face_results = face_model.forward()\n",
    "\n",
    "        # Iterate over the detected faces.\n",
    "        for face in face_results[0, 0]:\n",
    "            face_confidence = face[2]\n",
    "            if face_confidence > face_confidence_threshold:\n",
    "\n",
    "                # Get the face coordinates.\n",
    "                x0, y0, x1, y1 = (face[3:7] * [w, h, w, h]).astype(int)\n",
    "\n",
    "                # Draw a blue rectangle around the face.\n",
    "                cv2.rectangle(img, (x0, y0), (x1, y1),\n",
    "                                (255, 0, 0), 2)\n",
    "\n",
    "        cv2.imshow('Faces', img)\n",
    "\n",
    "        if cv2.waitKey(1) == 27: # Escape\n",
    "            cv2.destroyAllWindows()\n",
    "            break"
   ]
  },
  {
   "cell_type": "code",
   "execution_count": null,
   "metadata": {},
   "outputs": [],
   "source": [
    "ssd_detect_on_img(face_model, img)"
   ]
  },
  {
   "cell_type": "markdown",
   "metadata": {},
   "source": [
    "Detekcja na wideo"
   ]
  },
  {
   "cell_type": "code",
   "execution_count": null,
   "metadata": {},
   "outputs": [],
   "source": [
    "import cv2\n",
    "import numpy as np\n",
    "\n",
    "face_model = cv2.dnn.readNetFromCaffe(\n",
    "    'ssd/deploy.prototxt',\n",
    "    'ssd/res10_300x300_ssd_iter_140000.caffemodel')"
   ]
  },
  {
   "cell_type": "code",
   "execution_count": null,
   "metadata": {},
   "outputs": [],
   "source": [
    "def ssd_detect_on_video(ssd_model):\n",
    "\n",
    "    face_blob_height = 300\n",
    "    face_average_color = (104, 177, 123)\n",
    "    face_confidence_threshold = 0.9\n",
    "\n",
    "    cap = cv2.VideoCapture(0)\n",
    "\n",
    "    success, frame = cap.read()\n",
    "    while success:\n",
    "\n",
    "        h, w = frame.shape[:2]\n",
    "        aspect_ratio = w/h\n",
    "\n",
    "        # Detect faces in the frame.\n",
    "\n",
    "        face_blob_width = int(face_blob_height * aspect_ratio)\n",
    "        face_blob_size = (face_blob_width, face_blob_height)\n",
    "\n",
    "        face_blob = cv2.dnn.blobFromImage(\n",
    "            frame, size=face_blob_size, mean=face_average_color)\n",
    "\n",
    "        face_model.setInput(face_blob)\n",
    "        print(frame.shape)\n",
    "        face_results = face_model.forward()\n",
    "        print(face_results)\n",
    "        # Iterate over the detected faces.\n",
    "        for face in face_results[0, 0]:\n",
    "            face_confidence = face[2]\n",
    "            if face_confidence > face_confidence_threshold:\n",
    "\n",
    "                # Get the face coordinates.\n",
    "                x0, y0, x1, y1 = (face[3:7] * [w, h, w, h]).astype(int)\n",
    "\n",
    "                # Draw a blue rectangle around the face.\n",
    "                cv2.rectangle(frame, (x0, y0), (x1, y1),\n",
    "                            (255, 0, 0), 2)\n",
    "\n",
    "        cv2.imshow('Faces', frame)\n",
    "        if cv2.waitKey(1) == 27: # Escape\n",
    "            cv2.destroyAllWindows()\n",
    "            break\n",
    "\n",
    "        success, frame = cap.read()"
   ]
  },
  {
   "cell_type": "code",
   "execution_count": null,
   "metadata": {},
   "outputs": [],
   "source": [
    "ssd_detect_on_video(face_model)"
   ]
  },
  {
   "attachments": {},
   "cell_type": "markdown",
   "metadata": {},
   "source": [
    "# TODO: R-CNN"
   ]
  },
  {
   "cell_type": "markdown",
   "metadata": {},
   "source": [
    "Detekcja wybranych zdjęć ze zbioru danych"
   ]
  },
  {
   "cell_type": "code",
   "execution_count": null,
   "metadata": {},
   "outputs": [],
   "source": []
  },
  {
   "attachments": {},
   "cell_type": "markdown",
   "metadata": {},
   "source": [
    "Detekcja na wideo"
   ]
  },
  {
   "cell_type": "code",
   "execution_count": null,
   "metadata": {},
   "outputs": [],
   "source": []
  }
 ],
 "metadata": {
  "kernelspec": {
   "display_name": "Python 3.8.8 ('base')",
   "language": "python",
   "name": "python3"
  },
  "language_info": {
   "codemirror_mode": {
    "name": "ipython",
    "version": 3
   },
   "file_extension": ".py",
   "mimetype": "text/x-python",
   "name": "python",
   "nbconvert_exporter": "python",
   "pygments_lexer": "ipython3",
   "version": "3.8.8"
  },
  "orig_nbformat": 4,
  "vscode": {
   "interpreter": {
    "hash": "5179d32cf6ec497baf3f8a3ef987cc77c5d2dc691fdde20a56316522f61a7323"
   }
  }
 },
 "nbformat": 4,
 "nbformat_minor": 2
}
